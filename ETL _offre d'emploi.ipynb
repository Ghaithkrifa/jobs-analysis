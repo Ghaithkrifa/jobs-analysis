{
 "cells": [
  {
   "cell_type": "markdown",
   "id": "4e960c55",
   "metadata": {},
   "source": [
    "## Extraction des données"
   ]
  },
  {
   "cell_type": "code",
   "execution_count": null,
   "id": "0d4ef5ce",
   "metadata": {},
   "outputs": [],
   "source": [
    "from bs4 import BeautifulSoup\n",
    "import pandas as pd \n",
    "from time import sleep\n",
    "import time\n",
    "import selenium\n",
    "import pandas as pd\n",
    "from selenium import webdriver  \n",
    "from selenium.webdriver.common.keys import Keys\n",
    "from selenium.common.exceptions import NoSuchElementException\n",
    "import time\n",
    "import json\n",
    "from selenium.webdriver.common.by import By\n",
    "from selenium.webdriver.support.ui import WebDriverWait\n",
    "from selenium.webdriver.support import expected_conditions as EC\n",
    "import re\n",
    "import psycopg2\n",
    "from sqlalchemy import create_engine"
   ]
  },
  {
   "cell_type": "code",
   "execution_count": null,
   "id": "8ee2e7f2",
   "metadata": {},
   "outputs": [],
   "source": [
    "def scrolling_offre():\n",
    "    SCROLL_PAUSE_TIME = 1.8\n",
    "    last_height = driver.execute_script(\"return document.body.scrollHeight\")\n",
    "    while True:\n",
    "        driver.execute_script(\"window.scrollTo(0, document.body.scrollHeight);\")\n",
    "        time.sleep(SCROLL_PAUSE_TIME)\n",
    "        new_height = driver.execute_script(\"return document.body.scrollHeight\")\n",
    "        if new_height == last_height:\n",
    "            break\n",
    "        last_height = new_height\n",
    "    return "
   ]
  },
  {
   "cell_type": "code",
   "execution_count": null,
   "id": "0520cf86",
   "metadata": {},
   "outputs": [],
   "source": [
    "def get_descriptions(driver):\n",
    "\n",
    "    scrolling_offre()\n",
    "    src_description =driver.page_source\n",
    "    soupe1 =BeautifulSoup(src_description, 'lxml')\n",
    "    try:\n",
    "\n",
    "        titre1_element = soupe1.find('h1',class_=\"icl-u-xs-mb--xs icl-u-xs-mt--none jobsearch-JobInfoHeader-title\")\n",
    "        titre2_element=titre1_element.find_all('span')[0]\n",
    "        titre_element = titre2_element.text.strip()\n",
    "        \n",
    "        \n",
    "    except:\n",
    "        titre_element=\"none\"\n",
    "\n",
    "    try:\n",
    "        details_elements = soupe1.find('div',class_=\"css-tvvxwd ecydgvn1\")\n",
    "        type_contrat_element=details_elements.text.strip()\n",
    "\n",
    "        \n",
    "    except:\n",
    "        type_contrat_element=\"none\"\n",
    "\n",
    "    try:\n",
    "        div_element = soupe1.find('div', id='jobDescriptionText')\n",
    "    \n",
    "        if div_element:\n",
    "            paragraphs = div_element.find_all('p') \n",
    "            paragraphs1 = div_element.find_all('li')  \n",
    "\n",
    "            if paragraphs or paragraphs1:\n",
    "                content = \"\"  \n",
    "\n",
    "                for paragraph in paragraphs:\n",
    "                    content += paragraph.get_text(strip=True)\n",
    "                for paragraph1 in paragraphs1:\n",
    "                    content += paragraph1.get_text(strip=True) \n",
    "            \n",
    "            else:\n",
    "                content = div_element.get_text(strip=True) \n",
    "                \n",
    "    \n",
    "\n",
    "    except:\n",
    "        content=\"none\"\n",
    "        \n",
    "    try:\n",
    "        nom_societe0 = soupe1.find('div',class_=\"css-1cjkto6 eu4oa1w0\")\n",
    "        nom_societe1=nom_societe0.find_all('a')[0]\n",
    "        nom_societe = nom_societe1.text.strip()\n",
    "    except:\n",
    "        nom_societe=\"none\"\n",
    "        \n",
    "    try:\n",
    "        ville0 = soupe1.find('div',class_=\"css-6z8o9s eu4oa1w0\")\n",
    "        ville1=ville0.find_all('div')[0]\n",
    "        ville = ville1.text.strip()\n",
    "    except:\n",
    "        ville=\"none\"\n",
    "    return titre_element,type_contrat_element,content,nom_societe,ville"
   ]
  },
  {
   "cell_type": "code",
   "execution_count": null,
   "id": "ec78f1cb",
   "metadata": {},
   "outputs": [],
   "source": [
    "def get_details(href_list, link, driver):\n",
    "    titre =[]\n",
    "    type_contract =[]\n",
    "    description_offre =[]\n",
    "    nom_societe=[]\n",
    "    ville=[]\n",
    "\n",
    "    main_window = driver.current_window_handle  \n",
    "    for lien in href_list:\n",
    "        url_complet = link + lien\n",
    "        driver.execute_script(\"window.open('\" + url_complet + \"');\")\n",
    "        new_window = driver.window_handles[-1] \n",
    "        \n",
    "        driver.switch_to.window(new_window)\n",
    "        sleep(3)\n",
    "        result=get_descriptions(driver)\n",
    "        titre.append(result[0])\n",
    "        type_contract.append(result[1])\n",
    "        description_offre.append(result[2])\n",
    "        nom_societe.append(result[3])\n",
    "        ville.append(result[4])\n",
    "        driver.close()  \n",
    "        driver.switch_to.window(main_window)\n",
    "    return titre,type_contract,description_offre,nom_societe,ville"
   ]
  },
  {
   "cell_type": "code",
   "execution_count": null,
   "id": "b282daf5",
   "metadata": {},
   "outputs": [],
   "source": [
    "link=\"https://ca.indeed.com\"\n",
    "driver = webdriver.Chrome(\"C:\\\\Users\\\\gaith\\\\OneDrive\\\\Bureau\\\\projects\\\\chromedriver.exe\")\n",
    "sleep(1)\n",
    "url=\"entrer le lien de indeed\"\n",
    "driver.get(url)\n",
    "href_list = []\n",
    "dates2=[]\n",
    "for i in range(1):\n",
    "    scrolling_offre()\n",
    "    sleep(1)\n",
    "    src =driver.page_source\n",
    "    soupe =BeautifulSoup(src, 'lxml')\n",
    "    dates1 = soupe.find_all('span', {'class': 'date'})\n",
    "    containers = soupe.find_all('a', {'class': 'jcs-JobTitle css-jspxzf eu4oa1w0'})\n",
    "    for date0 in dates1:\n",
    "        dates2.append(date0.text.strip())\n",
    "    for container in containers:\n",
    "        href = container.get('href')\n",
    "        href_list.append(href)\n",
    "data=get_details(href_list, link, driver)\n"
   ]
  },
  {
   "cell_type": "code",
   "execution_count": null,
   "id": "2ec97ca3",
   "metadata": {},
   "outputs": [],
   "source": [
    "statut=[]\n",
    "categorie=[]\n",
    "description=[]\n",
    "dates=[]\n",
    "societe=[]\n",
    "ville=[]\n",
    "statut.extend(data[0])\n",
    "categorie.extend(data[1])\n",
    "description.extend(data[2])\n",
    "societe.extend(data[3])\n",
    "ville.extend(data[4])\n",
    "dates.extend(dates2)\n",
    "\n",
    "offresd_emploi = pd.DataFrame(\n",
    "{'statut': statut,\n",
    "'type_poste': categorie,\n",
    "'description': description,       \n",
    "\"societe\":societe,\n",
    " \"ville\":ville,\n",
    " \"dates\":dates\n",
    "            })\n",
    "offresd_emploi= offresd_emploi.drop_duplicates()"
   ]
  },
  {
   "cell_type": "markdown",
   "id": "f8fd38f2",
   "metadata": {},
   "source": [
    "## Traitement de données"
   ]
  },
  {
   "cell_type": "code",
   "execution_count": null,
   "id": "1441eafa",
   "metadata": {},
   "outputs": [],
   "source": [
    "nan_counts = offresd_emploi.isna().sum()\n",
    "nan_counts "
   ]
  },
  {
   "cell_type": "code",
   "execution_count": null,
   "id": "fbc3945d",
   "metadata": {},
   "outputs": [],
   "source": [
    "def extract_number(text):\n",
    "    match = re.search(r'\\d+', str(text))\n",
    "    if match:\n",
    "        return int(match.group())\n",
    "    else:\n",
    "        return None\n",
    "\n",
    "offresd_emploi['dates'] = offresd_emploi['dates'].apply(extract_number).astype('Int64')\n",
    "\n",
    "def replace(value):\n",
    "    if value in range(1, 8):\n",
    "        return '4ème semaine'\n",
    "    elif value in range(8, 15):\n",
    "        return '3ème semaine'\n",
    "    elif value in range(15, 22):\n",
    "        return '2ème semaine'\n",
    "    elif value in range(22, 30):\n",
    "        return '1ère semaine'\n",
    "    else:\n",
    "        return \"il y a un mois\"\n",
    "\n",
    "offresd_emploi['dates'] = offresd_emploi['dates'].apply(replace)"
   ]
  },
  {
   "cell_type": "code",
   "execution_count": null,
   "id": "cdd12668",
   "metadata": {},
   "outputs": [],
   "source": [
    "offresd_emploi['ville'] = offresd_emploi['ville'].apply(lambda x: re.sub(r'[\\d()]+', '', x))"
   ]
  },
  {
   "cell_type": "code",
   "execution_count": null,
   "id": "6143e474",
   "metadata": {},
   "outputs": [],
   "source": [
    "categorie = input(\"Entrez la categorie des offres d'emploi scrappe : \")\n",
    "sous_categorie  = input(\"Entrez la sous categorie des offres d'emploi scrappe : \")\n",
    "offresd_emploi['categorie'] = [categorie] * len(offresd_emploi)\n",
    "offresd_emploi['sous_categorie'] = [sous_categorie] * len(offresd_emploi)"
   ]
  },
  {
   "cell_type": "code",
   "execution_count": null,
   "id": "ed101009",
   "metadata": {},
   "outputs": [],
   "source": [
    "colonnes_specifiques = ['categorie', 'sous_categorie',\"type_poste\",\"societe\",\"ville\",\"dates\",\"statut\"]\n",
    "df_offresd_emploi = offresd_emploi.loc[:, colonnes_specifiques]"
   ]
  },
  {
   "cell_type": "code",
   "execution_count": null,
   "id": "0238e558",
   "metadata": {},
   "outputs": [],
   "source": [
    "df_offresd_emploi"
   ]
  },
  {
   "cell_type": "markdown",
   "id": "1369bd55",
   "metadata": {},
   "source": [
    "## Loading des données"
   ]
  },
  {
   "cell_type": "code",
   "execution_count": null,
   "id": "ce338d32",
   "metadata": {},
   "outputs": [],
   "source": [
    "conn = psycopg2.connect(\n",
    "    host=\"localhost\",\n",
    "    port=5432,\n",
    "    database=\"offre_emploi\",\n",
    "    user=\"postgres\",\n",
    "    password=\"########\"\n",
    ")\n",
    "\n",
    "engine = create_engine('postgresql+psycopg2://', creator=lambda: conn)\n",
    "df_ville.to_sql('ville', con=engine, if_exists='append', index=False)\n",
    "conn.close()\n"
   ]
  }
 ],
 "metadata": {
  "kernelspec": {
   "display_name": "Python 3 (ipykernel)",
   "language": "python",
   "name": "python3"
  },
  "language_info": {
   "codemirror_mode": {
    "name": "ipython",
    "version": 3
   },
   "file_extension": ".py",
   "mimetype": "text/x-python",
   "name": "python",
   "nbconvert_exporter": "python",
   "pygments_lexer": "ipython3",
   "version": "3.8.13"
  }
 },
 "nbformat": 4,
 "nbformat_minor": 5
}
